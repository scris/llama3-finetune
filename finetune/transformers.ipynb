{
 "cells": [
  {
   "metadata": {},
   "cell_type": "markdown",
   "source": "## LoRA Fine-Tune",
   "id": "1cd811f4c1b055e0"
  },
  {
   "metadata": {},
   "cell_type": "markdown",
   "source": "### Initialization",
   "id": "729df9ced4342290"
  },
  {
   "metadata": {
    "ExecuteTime": {
     "end_time": "2024-10-28T14:26:53.608809Z",
     "start_time": "2024-10-28T14:26:53.337063Z"
    }
   },
   "cell_type": "code",
   "source": [
    "import random\n",
    "import numpy as np\n",
    "import torch\n",
    "\n",
    "from transformers import AutoModelForCausalLM, AutoTokenizer\n",
    "\n",
    "def seed_everything(seed):\n",
    "    random.seed(seed)\n",
    "    np.random.seed(seed)\n",
    "    torch.manual_seed(seed)\n",
    "\n",
    "seed_everything(0)\n",
    "\n",
    "model_dir = r'.\\models\\Llama-3.1-8B'\n",
    "device = 'cuda'\n",
    "\n",
    "tokenizer = AutoTokenizer.from_pretrained(model_dir)"
   ],
   "id": "2e2f3b688cf986c7",
   "outputs": [],
   "execution_count": 2
  },
  {
   "metadata": {},
   "cell_type": "markdown",
   "source": "### Get Model",
   "id": "1860f7a65ee9d31d"
  },
  {
   "metadata": {},
   "cell_type": "code",
   "outputs": [],
   "execution_count": null,
   "source": "model = AutoModelForCausalLM.from_pretrained(model_dir, torch_dtype='auto', device_map=device)",
   "id": "ca7ec86b816a1265"
  }
 ],
 "metadata": {
  "kernelspec": {
   "display_name": "Python 3",
   "language": "python",
   "name": "python3"
  },
  "language_info": {
   "codemirror_mode": {
    "name": "ipython",
    "version": 2
   },
   "file_extension": ".py",
   "mimetype": "text/x-python",
   "name": "python",
   "nbconvert_exporter": "python",
   "pygments_lexer": "ipython2",
   "version": "2.7.6"
  }
 },
 "nbformat": 4,
 "nbformat_minor": 5
}
