{
 "cells": [
  {
   "cell_type": "markdown",
   "id": "7bed51bc-a35c-4995-90fd-3fb947d406ee",
   "metadata": {},
   "source": [
    "### Initialization"
   ]
  },
  {
   "cell_type": "markdown",
   "id": "9b98897f-090c-4789-91d6-0979a89fbf1a",
   "metadata": {},
   "source": [
    "``` bash\n",
    "export HF_ENDPOINT=https://hf-mirror.com\n",
    "```"
   ]
  },
  {
   "cell_type": "markdown",
   "id": "2cf70573-8588-45b6-b4b8-048382625988",
   "metadata": {},
   "source": [
    "### Swanlab Login"
   ]
  },
  {
   "cell_type": "markdown",
   "id": "13abf5fb-f200-4acf-a883-2365fc42fb8c",
   "metadata": {
    "execution": {
     "iopub.execute_input": "2024-10-29T02:50:43.943048Z",
     "iopub.status.busy": "2024-10-29T02:50:43.942556Z",
     "iopub.status.idle": "2024-10-29T02:50:43.954086Z",
     "shell.execute_reply": "2024-10-29T02:50:43.952951Z",
     "shell.execute_reply.started": "2024-10-29T02:50:43.942988Z"
    },
    "tags": []
   },
   "source": [
    "``` bash\n",
    "swanlab login\n",
    "```"
   ]
  },
  {
   "cell_type": "markdown",
   "id": "5219442f-b7a3-4437-b5d6-ddfbcfdda6dc",
   "metadata": {
    "execution": {
     "iopub.execute_input": "2024-10-28T16:31:00.966960Z",
     "iopub.status.busy": "2024-10-28T16:31:00.966191Z",
     "iopub.status.idle": "2024-10-28T16:31:00.971648Z",
     "shell.execute_reply": "2024-10-28T16:31:00.970802Z",
     "shell.execute_reply.started": "2024-10-28T16:31:00.966907Z"
    },
    "tags": []
   },
   "source": [
    "### Do Fine-Tune"
   ]
  },
  {
   "cell_type": "markdown",
   "id": "5fd13abd-817d-481d-a126-59a6f91c6991",
   "metadata": {
    "execution": {
     "iopub.execute_input": "2024-10-28T16:52:53.881998Z",
     "iopub.status.busy": "2024-10-28T16:52:53.881579Z",
     "iopub.status.idle": "2024-10-28T16:52:54.102078Z",
     "shell.execute_reply": "2024-10-28T16:52:54.100932Z",
     "shell.execute_reply.started": "2024-10-28T16:52:53.881975Z"
    },
    "tags": []
   },
   "source": [
    "``` bash\n",
    "tune run --nproc_per_node 1 ./lora_ft_distri_recipe --config ./torchtune_lora.yaml\n",
    "```"
   ]
  },
  {
   "cell_type": "markdown",
   "id": "56bf12f1-1538-4f2c-9193-a5a9a53076be",
   "metadata": {},
   "source": [
    "### Do Evaluation"
   ]
  },
  {
   "cell_type": "markdown",
   "id": "a5abd191-edcf-4af7-8d9c-22c515735a86",
   "metadata": {},
   "source": [
    "``` bash\n",
    "python eleuther_eval.py --config ./torchtune_eval.yaml\n",
    "```"
   ]
  }
 ],
 "metadata": {
  "kernelspec": {
   "display_name": "Python 3 (ipykernel)",
   "language": "python",
   "name": "python3"
  },
  "language_info": {
   "codemirror_mode": {
    "name": "ipython",
    "version": 3
   },
   "file_extension": ".py",
   "mimetype": "text/x-python",
   "name": "python",
   "nbconvert_exporter": "python",
   "pygments_lexer": "ipython3",
   "version": "3.10.14"
  }
 },
 "nbformat": 4,
 "nbformat_minor": 5
}
