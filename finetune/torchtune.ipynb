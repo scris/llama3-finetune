{
 "cells": [
  {
   "metadata": {},
   "cell_type": "markdown",
   "source": "### Do Fine-Tune",
   "id": "51833a655267c32d"
  },
  {
   "metadata": {},
   "cell_type": "code",
   "outputs": [],
   "execution_count": null,
   "source": "!tune run --nproc_per_node 1 lora_finetune_distributed --config ./torchtune_lora.yaml",
   "id": "64279dadd28830ed"
  }
 ],
 "metadata": {
  "kernelspec": {
   "display_name": "Python 3",
   "language": "python",
   "name": "python3"
  },
  "language_info": {
   "codemirror_mode": {
    "name": "ipython",
    "version": 2
   },
   "file_extension": ".py",
   "mimetype": "text/x-python",
   "name": "python",
   "nbconvert_exporter": "python",
   "pygments_lexer": "ipython2",
   "version": "2.7.6"
  }
 },
 "nbformat": 4,
 "nbformat_minor": 5
}
