{
 "cells": [
  {
   "metadata": {},
   "cell_type": "markdown",
   "source": "### Use of Transformers",
   "id": "b5e9b6bf4275e631"
  },
  {
   "metadata": {},
   "cell_type": "code",
   "source": [
    "from transformers import AutoTokenizer, AutoModelForCausalLM\n",
    "import torch\n",
    "\n",
    "model_dir = r'.\\models\\Llama-3.1-8B'\n",
    "device = 'cuda'\n",
    "\n",
    "tokenizer = AutoTokenizer.from_pretrained(model_dir)\n",
    "model = AutoModelForCausalLM.from_pretrained(model_dir, torch_dtype='auto', device_map=device)"
   ],
   "id": "178c51d92ffa2668",
   "outputs": [],
   "execution_count": null
  },
  {
   "metadata": {
    "ExecuteTime": {
     "end_time": "2024-10-28T02:39:01.844489Z",
     "start_time": "2024-10-28T02:37:16.174169Z"
    }
   },
   "cell_type": "code",
   "source": [
    "def run_test(input_text):\n",
    "    input_ids = tokenizer.encode(input_text, return_tensors=\"pt\").to(device)\n",
    "    attention_mask = torch.ones_like(input_ids) \n",
    "    with torch.no_grad():\n",
    "        output = model.generate(input_ids, \n",
    "                                attention_mask=attention_mask,\n",
    "                                max_length=50,\n",
    "                                repetition_penalty=1.2,\n",
    "                                pad_token_id=tokenizer.eos_token_id,\n",
    "                                num_return_sequences=1,\n",
    "                                do_sample=False)\n",
    "    return tokenizer.decode(output[0], skip_special_tokens=True)\n",
    " \n",
    "input_texts = [\n",
    "    \"Explain the theory of relativity: It is\",\n",
    "    \"1,1,2,3,5,8,13,21,34,55,\",\n",
    "    \"The Sky is\",\n",
    "    \"你是什么大模型？\"\n",
    "]\n",
    " \n",
    "for text in input_texts:\n",
    "    print(f\"\\n▶Input: {text}\\n▶Output: {run_test(text)}\\n\")"
   ],
   "id": "cf391c7fcbf20028",
   "outputs": [
    {
     "name": "stdout",
     "output_type": "stream",
     "text": [
      "\n",
      "▶Input: Explain the theory of relativity: It is\n",
      "▶Output: Explain the theory of relativity: It is a scientific theory that explains how space and time are related to each other. The theory was developed by Albert Einstein in 1905, and it has since been confirmed through numerous experiments.\n",
      "The Theory\n",
      "\n",
      "\n",
      "▶Input: 1,1,2,3,5,8,13,21,34,55,\n",
      "▶Output: 1,1,2,3,5,8,13,21,34,55,89,... is the Fibonacci sequence. The first few terms are 0, 1, 1, 2, 3, 5\n",
      "\n",
      "\n",
      "▶Input: The Sky is\n",
      "▶Output: The Sky is Falling! The Sky is Falling!\n",
      "I have been reading a lot of articles lately about the impending doom that will befall us all if we don’t get our act together and start doing something to stop global warming. I am not\n",
      "\n",
      "\n",
      "▶Input: 你是什么大模型？\n",
      "▶Output: 你是什么大模型？（What is your model?）\n",
      "我是从事人工智能的研究者，目前在中国科学院计算技术研究所工作。我的主要兴趣领域包括机器学习、自然语言处理和信息检\n",
      "\n"
     ]
    }
   ],
   "execution_count": 3
  },
  {
   "metadata": {},
   "cell_type": "code",
   "outputs": [],
   "execution_count": null,
   "source": "",
   "id": "a32021122cd38196"
  }
 ],
 "metadata": {
  "kernelspec": {
   "display_name": "Python 3",
   "language": "python",
   "name": "python3"
  },
  "language_info": {
   "codemirror_mode": {
    "name": "ipython",
    "version": 2
   },
   "file_extension": ".py",
   "mimetype": "text/x-python",
   "name": "python",
   "nbconvert_exporter": "python",
   "pygments_lexer": "ipython2",
   "version": "2.7.6"
  }
 },
 "nbformat": 4,
 "nbformat_minor": 5
}
